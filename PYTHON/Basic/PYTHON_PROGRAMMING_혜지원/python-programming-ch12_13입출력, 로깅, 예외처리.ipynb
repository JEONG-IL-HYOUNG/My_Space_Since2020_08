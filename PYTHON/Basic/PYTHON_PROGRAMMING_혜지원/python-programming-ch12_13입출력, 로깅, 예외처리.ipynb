{
 "cells": [
  {
   "cell_type": "code",
   "execution_count": 1,
   "metadata": {},
   "outputs": [],
   "source": [
    "###chapter 12  input output logging"
   ]
  },
  {
   "cell_type": "code",
   "execution_count": 5,
   "metadata": {},
   "outputs": [
    {
     "name": "stdout",
     "output_type": "stream",
     "text": [
      "Hello, korea!\n"
     ]
    }
   ],
   "source": [
    "#포맷을 위한 문자열형 메소드 .format()\n",
    "print('Hello, {}!'.format('korea'))"
   ]
  },
  {
   "cell_type": "code",
   "execution_count": 11,
   "metadata": {},
   "outputs": [
    {
     "name": "stdout",
     "output_type": "stream",
     "text": [
      "이름을 입력하세요: mlab\n",
      "Hello, mlab!\n"
     ]
    }
   ],
   "source": [
    "name = input('이름을 입력하세요: ')\n",
    "print('Hello, {}!'.format(name))"
   ]
  },
  {
   "cell_type": "code",
   "execution_count": 13,
   "metadata": {},
   "outputs": [
    {
     "name": "stdout",
     "output_type": "stream",
     "text": [
      "이름을 입력하세요: k머히\n",
      "직업을 입력하세요: programmer\n",
      "k머히 is a programmer!\n"
     ]
    }
   ],
   "source": [
    "name = input('이름을 입력하세요: ')\n",
    "job = input('직업을 입력하세요: ')\n",
    "print('{} is a {}!'.format(name, job))"
   ]
  },
  {
   "cell_type": "code",
   "execution_count": 14,
   "metadata": {},
   "outputs": [
    {
     "data": {
      "text/plain": [
       "'A-B-C'"
      ]
     },
     "execution_count": 14,
     "metadata": {},
     "output_type": "execute_result"
    }
   ],
   "source": [
    "'{0}-{1}-{2}'.format(*'ABC') #문자열이나 튜플, 리스트형 데이터들을 자동으로 언패킹하여 값을 출력할수 있음"
   ]
  },
  {
   "cell_type": "code",
   "execution_count": 15,
   "metadata": {},
   "outputs": [
    {
     "data": {
      "text/plain": [
       "'A-B-C'"
      ]
     },
     "execution_count": 15,
     "metadata": {},
     "output_type": "execute_result"
    }
   ],
   "source": [
    "'{0}-{1}-{2}'.format(*['A','B','C'])"
   ]
  },
  {
   "cell_type": "code",
   "execution_count": 17,
   "metadata": {},
   "outputs": [
    {
     "data": {
      "text/plain": [
       "'A-B-C'"
      ]
     },
     "execution_count": 17,
     "metadata": {},
     "output_type": "execute_result"
    }
   ],
   "source": [
    "'{0[0]}-{0[1]}-{0[2]}'.format(['A','B','C'])"
   ]
  },
  {
   "cell_type": "code",
   "execution_count": null,
   "metadata": {},
   "outputs": [],
   "source": []
  },
  {
   "cell_type": "code",
   "execution_count": 18,
   "metadata": {},
   "outputs": [],
   "source": [
    "def exception_test(): # \n",
    "    print(\"[1] Can you add 2 and '2' in python?\")\n",
    "    print(\"[2] Try it~!\", 2+ '2') #에러 발생 코드\n",
    "    print(\"[3] It`s not possible to add integer and string together\")"
   ]
  },
  {
   "cell_type": "code",
   "execution_count": 19,
   "metadata": {},
   "outputs": [
    {
     "name": "stdout",
     "output_type": "stream",
     "text": [
      "[1] Can you add 2 and '2' in python?\n"
     ]
    },
    {
     "ename": "TypeError",
     "evalue": "unsupported operand type(s) for +: 'int' and 'str'",
     "output_type": "error",
     "traceback": [
      "\u001b[1;31m---------------------------------------------------------------------------\u001b[0m",
      "\u001b[1;31mTypeError\u001b[0m                                 Traceback (most recent call last)",
      "\u001b[1;32m<ipython-input-19-40843da4296e>\u001b[0m in \u001b[0;36m<module>\u001b[1;34m\u001b[0m\n\u001b[1;32m----> 1\u001b[1;33m \u001b[0mexception_test\u001b[0m\u001b[1;33m(\u001b[0m\u001b[1;33m)\u001b[0m\u001b[1;33m\u001b[0m\u001b[1;33m\u001b[0m\u001b[0m\n\u001b[0m",
      "\u001b[1;32m<ipython-input-18-fce9f9951ffa>\u001b[0m in \u001b[0;36mexception_test\u001b[1;34m()\u001b[0m\n\u001b[0;32m      1\u001b[0m \u001b[1;32mdef\u001b[0m \u001b[0mexception_test\u001b[0m\u001b[1;33m(\u001b[0m\u001b[1;33m)\u001b[0m\u001b[1;33m:\u001b[0m\u001b[1;33m\u001b[0m\u001b[1;33m\u001b[0m\u001b[0m\n\u001b[0;32m      2\u001b[0m     \u001b[0mprint\u001b[0m\u001b[1;33m(\u001b[0m\u001b[1;34m\"[1] Can you add 2 and '2' in python?\"\u001b[0m\u001b[1;33m)\u001b[0m\u001b[1;33m\u001b[0m\u001b[1;33m\u001b[0m\u001b[0m\n\u001b[1;32m----> 3\u001b[1;33m     \u001b[0mprint\u001b[0m\u001b[1;33m(\u001b[0m\u001b[1;34m\"[2] Try it~!\"\u001b[0m\u001b[1;33m,\u001b[0m \u001b[1;36m2\u001b[0m\u001b[1;33m+\u001b[0m \u001b[1;34m'2'\u001b[0m\u001b[1;33m)\u001b[0m\u001b[1;33m\u001b[0m\u001b[1;33m\u001b[0m\u001b[0m\n\u001b[0m\u001b[0;32m      4\u001b[0m     \u001b[0mprint\u001b[0m\u001b[1;33m(\u001b[0m\u001b[1;34m\"[3] It`s not possible to add integer and string together\"\u001b[0m\u001b[1;33m)\u001b[0m\u001b[1;33m\u001b[0m\u001b[1;33m\u001b[0m\u001b[0m\n",
      "\u001b[1;31mTypeError\u001b[0m: unsupported operand type(s) for +: 'int' and 'str'"
     ]
    }
   ],
   "source": [
    "exception_test()"
   ]
  },
  {
   "cell_type": "code",
   "execution_count": 22,
   "metadata": {},
   "outputs": [],
   "source": [
    "def exception_test1(): # \n",
    "    print(\"[1] Can you add 2 and '2' in python?\")\n",
    "    \n",
    "    try:\n",
    "        print(\"[2] Try it~!\", 2+ '2') #에러 발생 코드\n",
    "        \n",
    "    except TypeError                  #예외 처리\n",
    "        print(\"[2] I got TypeError\")   #에러 메시지 출력\n",
    "        \n",
    "    print(\"[3] It`s not possible to add integer and string together\")"
   ]
  },
  {
   "cell_type": "code",
   "execution_count": 23,
   "metadata": {},
   "outputs": [
    {
     "name": "stdout",
     "output_type": "stream",
     "text": [
      "[1] Can you add 2 and '2' in python?\n",
      "[2] I got TypeError\n",
      "[3] It`s not possible to add integer and string together\n"
     ]
    }
   ],
   "source": [
    "exception_test1()"
   ]
  },
  {
   "cell_type": "code",
   "execution_count": 25,
   "metadata": {},
   "outputs": [],
   "source": [
    "def exception_test2(): # \n",
    "    print(\"[1] Can you add 2 and '2' in python?\")\n",
    "    \n",
    "    try:\n",
    "        print(\"[2] Try it~!\", 2+ '2') #타입에러 발생 코드\n",
    "        \n",
    "    except TypeError as err:\n",
    "        print(\"[2] TypeError: {}\".format(err))\n",
    "        \n",
    "    print(\"[3] It`s not possible to add integer and string together\")"
   ]
  },
  {
   "cell_type": "code",
   "execution_count": 26,
   "metadata": {},
   "outputs": [
    {
     "name": "stdout",
     "output_type": "stream",
     "text": [
      "[1] Can you add 2 and '2' in python?\n",
      "[2] TypeError: unsupported operand type(s) for +: 'int' and 'str'\n",
      "[3] It`s not possible to add integer and string together\n"
     ]
    }
   ],
   "source": [
    "exception_test2()"
   ]
  },
  {
   "cell_type": "code",
   "execution_count": 27,
   "metadata": {},
   "outputs": [],
   "source": [
    "import traceback\n",
    "\n",
    "def exception_test2(): # \n",
    "    print(\"[1] Can you add 2 and '2' in python?\")\n",
    "    \n",
    "    try:\n",
    "        print(\"[2] Try it~!\", 2+ '2') #타입에러 발생 코드\n",
    "        \n",
    "    except TypeError:\n",
    "        print(\"[2] I got TypeError! 원래 이문장이 출력되는 거다!\")\n",
    "        traceback.print_exc()\n",
    "        \n",
    "    print(\"[3] It`s not possible to add integer and string together\")"
   ]
  },
  {
   "cell_type": "code",
   "execution_count": 28,
   "metadata": {},
   "outputs": [
    {
     "name": "stdout",
     "output_type": "stream",
     "text": [
      "[1] Can you add 2 and '2' in python?\n",
      "[2] I got TypeError! 원래 이문장이 출력되는 거다!\n",
      "[3] It`s not possible to add integer and string together\n"
     ]
    },
    {
     "name": "stderr",
     "output_type": "stream",
     "text": [
      "Traceback (most recent call last):\n",
      "  File \"<ipython-input-27-2a60e9d3b062>\", line 7, in exception_test2\n",
      "    print(\"[2] Try it~!\", 2+ '2') #타입에러 발생 코드\n",
      "TypeError: unsupported operand type(s) for +: 'int' and 'str'\n"
     ]
    }
   ],
   "source": [
    "exception_test2()"
   ]
  },
  {
   "cell_type": "code",
   "execution_count": null,
   "metadata": {},
   "outputs": [],
   "source": []
  },
  {
   "cell_type": "code",
   "execution_count": 29,
   "metadata": {},
   "outputs": [],
   "source": [
    "###else 와 finally 활용하기"
   ]
  },
  {
   "cell_type": "code",
   "execution_count": 35,
   "metadata": {},
   "outputs": [],
   "source": [
    "def exception_test3(file_path):\n",
    "    try:\n",
    "        f= open(file_path,'r') # 파일 열기 시도\n",
    "    except IOError:           # IO에러 발생시\n",
    "        print('cannot open', file_path) # 에러메시지 출력\n",
    "    else:                       # IO에러 발생 안 할때 \n",
    "        print('File has', len(f.readlines()), 'lines') # 파일 라인수 출력\n",
    "        f.close()"
   ]
  },
  {
   "cell_type": "code",
   "execution_count": 36,
   "metadata": {},
   "outputs": [
    {
     "name": "stdout",
     "output_type": "stream",
     "text": [
      "File has 192 lines\n"
     ]
    }
   ],
   "source": [
    "exception_test3('C:/Users/mlab/Downloads/Telegram Desktop/모바일URL확인.txt')"
   ]
  },
  {
   "cell_type": "code",
   "execution_count": 37,
   "metadata": {},
   "outputs": [
    {
     "name": "stdout",
     "output_type": "stream",
     "text": [
      "cannot open C:/Users/mlab/Downloads/Telegram Desktop/모RL확인.txt\n"
     ]
    }
   ],
   "source": [
    "exception_test3('C:/Users/mlab/Downloads/Telegram Desktop/모RL확인.txt')"
   ]
  },
  {
   "cell_type": "code",
   "execution_count": 38,
   "metadata": {},
   "outputs": [],
   "source": [
    "def exception_test3(file_path):\n",
    "    try:\n",
    "        f= open(file_path,'r') # 파일 열기 시도\n",
    "    except IOError:           # IO에러 발생시\n",
    "        print('cannot open', file_path) # 에러메시지 출력\n",
    "    else:                       # IO에러 발생 안 할때 \n",
    "        print('File has', len(f.readlines()), 'lines') # 파일 라인수 출력\n",
    "        f.close()\n",
    "    finally:\n",
    "        print('finally구문은 예외가 발생하든말든 반드시 실행됨', file_path)"
   ]
  },
  {
   "cell_type": "code",
   "execution_count": 39,
   "metadata": {},
   "outputs": [
    {
     "name": "stdout",
     "output_type": "stream",
     "text": [
      "File has 192 lines\n",
      "finally구문은 예외가 발생하든말든 반드시 실행됨 C:/Users/mlab/Downloads/Telegram Desktop/모바일URL확인.txt\n"
     ]
    }
   ],
   "source": [
    "exception_test3('C:/Users/mlab/Downloads/Telegram Desktop/모바일URL확인.txt')"
   ]
  },
  {
   "cell_type": "code",
   "execution_count": 40,
   "metadata": {},
   "outputs": [
    {
     "name": "stdout",
     "output_type": "stream",
     "text": [
      "cannot open C:/Users/mlab/Downloads/Telegram Desktop/모RL확인.txt\n",
      "finally구문은 예외가 발생하든말든 반드시 실행됨 C:/Users/mlab/Downloads/Telegram Desktop/모RL확인.txt\n"
     ]
    }
   ],
   "source": [
    "exception_test3('C:/Users/mlab/Downloads/Telegram Desktop/모RL확인.txt')"
   ]
  }
 ],
 "metadata": {
  "kernelspec": {
   "display_name": "Python 3",
   "language": "python",
   "name": "python3"
  },
  "language_info": {
   "codemirror_mode": {
    "name": "ipython",
    "version": 3
   },
   "file_extension": ".py",
   "mimetype": "text/x-python",
   "name": "python",
   "nbconvert_exporter": "python",
   "pygments_lexer": "ipython3",
   "version": "3.7.9"
  },
  "toc": {
   "base_numbering": 1,
   "nav_menu": {},
   "number_sections": true,
   "sideBar": true,
   "skip_h1_title": false,
   "title_cell": "Table of Contents",
   "title_sidebar": "Contents",
   "toc_cell": false,
   "toc_position": {},
   "toc_section_display": true,
   "toc_window_display": false
  },
  "varInspector": {
   "cols": {
    "lenName": 16,
    "lenType": 16,
    "lenVar": 40
   },
   "kernels_config": {
    "python": {
     "delete_cmd_postfix": "",
     "delete_cmd_prefix": "del ",
     "library": "var_list.py",
     "varRefreshCmd": "print(var_dic_list())"
    },
    "r": {
     "delete_cmd_postfix": ") ",
     "delete_cmd_prefix": "rm(",
     "library": "var_list.r",
     "varRefreshCmd": "cat(var_dic_list()) "
    }
   },
   "types_to_exclude": [
    "module",
    "function",
    "builtin_function_or_method",
    "instance",
    "_Feature"
   ],
   "window_display": false
  }
 },
 "nbformat": 4,
 "nbformat_minor": 4
}
