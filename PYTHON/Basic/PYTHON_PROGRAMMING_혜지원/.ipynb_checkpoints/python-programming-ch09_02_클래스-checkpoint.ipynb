{
 "cells": [
  {
   "cell_type": "code",
   "execution_count": 1,
   "metadata": {},
   "outputs": [],
   "source": [
    "####chapter09(2) 275page 상속부분"
   ]
  },
  {
   "cell_type": "code",
   "execution_count": 4,
   "metadata": {},
   "outputs": [],
   "source": [
    "class BookReader:\n",
    "    country = 'South Korea'\n",
    "    def __init__(self, name):\n",
    "        self.name = name\n",
    "    def read_book(self):\n",
    "        print(self.name + 'is reading Book')    "
   ]
  },
  {
   "cell_type": "code",
   "execution_count": 24,
   "metadata": {},
   "outputs": [],
   "source": [
    "class DrumPlayer:\n",
    "    country = 'South Korea'\n",
    "    def __init__(self, name):\n",
    "        self.name = name\n",
    "    def read_book(self):\n",
    "        print(self.name + 'is playing Drum')  "
   ]
  },
  {
   "cell_type": "code",
   "execution_count": 25,
   "metadata": {},
   "outputs": [],
   "source": [
    "##중복된 속성을 부모 클래스에 따로 작업"
   ]
  },
  {
   "cell_type": "code",
   "execution_count": 34,
   "metadata": {},
   "outputs": [],
   "source": [
    "class Human:\n",
    "    country = 'South Korea'\n",
    "    def __init__(self, name):\n",
    "        self.name = name\n",
    "    def eat_meal(self):\n",
    "        print(self.name + ' is eating meal!!')"
   ]
  },
  {
   "cell_type": "code",
   "execution_count": 35,
   "metadata": {},
   "outputs": [],
   "source": [
    "class BookReader(Human): #Human의 자식 클래스인 BookReader 클래스 선언\n",
    "    def read_book(self):\n",
    "        print(self.name + ' is reading Book')    "
   ]
  },
  {
   "cell_type": "code",
   "execution_count": 36,
   "metadata": {},
   "outputs": [],
   "source": [
    "class DrumPlayer(Human):\n",
    "    def play_drum(self):\n",
    "        print(self.name + ' is playing Drum')"
   ]
  },
  {
   "cell_type": "code",
   "execution_count": 37,
   "metadata": {},
   "outputs": [],
   "source": [
    "br = BookReader('Jayce')"
   ]
  },
  {
   "cell_type": "code",
   "execution_count": 30,
   "metadata": {},
   "outputs": [
    {
     "data": {
      "text/plain": [
       "'South Korea'"
      ]
     },
     "execution_count": 30,
     "metadata": {},
     "output_type": "execute_result"
    }
   ],
   "source": [
    "br.country"
   ]
  },
  {
   "cell_type": "code",
   "execution_count": 31,
   "metadata": {},
   "outputs": [
    {
     "name": "stdout",
     "output_type": "stream",
     "text": [
      "Jayce is reading Book\n"
     ]
    }
   ],
   "source": [
    "br.read_book()"
   ]
  },
  {
   "cell_type": "code",
   "execution_count": 38,
   "metadata": {},
   "outputs": [
    {
     "data": {
      "text/plain": [
       "'South Korea'"
      ]
     },
     "execution_count": 38,
     "metadata": {},
     "output_type": "execute_result"
    }
   ],
   "source": [
    "dp = DrumPlayer('Sean')\n",
    "dp.country"
   ]
  },
  {
   "cell_type": "code",
   "execution_count": 33,
   "metadata": {},
   "outputs": [
    {
     "name": "stdout",
     "output_type": "stream",
     "text": [
      "Sean is playing Drum\n"
     ]
    }
   ],
   "source": [
    "dp.play_drum()"
   ]
  },
  {
   "cell_type": "code",
   "execution_count": 39,
   "metadata": {},
   "outputs": [
    {
     "name": "stdout",
     "output_type": "stream",
     "text": [
      "Jayce is eating meal!!\n"
     ]
    }
   ],
   "source": [
    "br.eat_meal()"
   ]
  },
  {
   "cell_type": "code",
   "execution_count": 40,
   "metadata": {},
   "outputs": [
    {
     "name": "stdout",
     "output_type": "stream",
     "text": [
      "Sean is eating meal!!\n"
     ]
    }
   ],
   "source": [
    "dp.eat_meal()"
   ]
  },
  {
   "cell_type": "code",
   "execution_count": 42,
   "metadata": {},
   "outputs": [],
   "source": [
    "class BookWriter(Human):\n",
    "    def write_book(self):\n",
    "        print(self.name, 'is writing Book')"
   ]
  },
  {
   "cell_type": "code",
   "execution_count": 43,
   "metadata": {},
   "outputs": [],
   "source": [
    "bw = BookWriter('NANI')"
   ]
  },
  {
   "cell_type": "code",
   "execution_count": 44,
   "metadata": {},
   "outputs": [
    {
     "name": "stdout",
     "output_type": "stream",
     "text": [
      "NANI is writing Book\n"
     ]
    }
   ],
   "source": [
    "bw.write_book()"
   ]
  },
  {
   "cell_type": "code",
   "execution_count": 45,
   "metadata": {},
   "outputs": [
    {
     "name": "stdout",
     "output_type": "stream",
     "text": [
      "NANI is eating meal!!\n"
     ]
    }
   ],
   "source": [
    "bw.eat_meal()"
   ]
  },
  {
   "cell_type": "code",
   "execution_count": 46,
   "metadata": {},
   "outputs": [],
   "source": [
    "class Developer:\n",
    "    def coding(self):\n",
    "        print(self.name + ' is developer!!')"
   ]
  },
  {
   "cell_type": "code",
   "execution_count": 47,
   "metadata": {},
   "outputs": [],
   "source": [
    "class ProgramBookWriter(Human, Developer):\n",
    "    def write_book(self):\n",
    "        print(self.name + ' is writing Book!!')"
   ]
  },
  {
   "cell_type": "code",
   "execution_count": 48,
   "metadata": {},
   "outputs": [
    {
     "name": "stdout",
     "output_type": "stream",
     "text": [
      "PASS is eating meal!!\n"
     ]
    }
   ],
   "source": [
    "pbw = ProgramBookWriter('PASS')\n",
    "pbw.eat_meal()"
   ]
  },
  {
   "cell_type": "code",
   "execution_count": 49,
   "metadata": {},
   "outputs": [
    {
     "name": "stdout",
     "output_type": "stream",
     "text": [
      "PASS is developer!!\n"
     ]
    }
   ],
   "source": [
    "pbw.coding()"
   ]
  },
  {
   "cell_type": "code",
   "execution_count": 51,
   "metadata": {},
   "outputs": [
    {
     "name": "stdout",
     "output_type": "stream",
     "text": [
      "PASS is writing Book!!\n"
     ]
    }
   ],
   "source": [
    "pbw.write_book()"
   ]
  },
  {
   "cell_type": "code",
   "execution_count": null,
   "metadata": {},
   "outputs": [],
   "source": []
  },
  {
   "cell_type": "code",
   "execution_count": 52,
   "metadata": {},
   "outputs": [],
   "source": [
    "###다형성 287 page"
   ]
  },
  {
   "cell_type": "code",
   "execution_count": 53,
   "metadata": {},
   "outputs": [],
   "source": [
    "class Developer:   #Developer 부모 클래스 선언\n",
    "    def __init__(self, name): # 초기화시 name을 받기 위한 재정의\n",
    "        self.name = name\n",
    "    \n",
    "    def coding(self): # coding 메소드 선언\n",
    "        print(self.name + ' is developer!!')"
   ]
  },
  {
   "cell_type": "code",
   "execution_count": 54,
   "metadata": {},
   "outputs": [],
   "source": [
    "class PythonDeveloper(Developer): # PythonDeveloper 자식 클래스 선언\n",
    "    def coding(self):\n",
    "        print(self.name + ' is Python developer!!')"
   ]
  },
  {
   "cell_type": "code",
   "execution_count": 55,
   "metadata": {},
   "outputs": [],
   "source": [
    "class JavaDeveloper(Developer): # JavaDeveloper 자식 클래스 선언\n",
    "    def coding(self):\n",
    "        print(self.name + ' is Java developer!!')"
   ]
  },
  {
   "cell_type": "code",
   "execution_count": 56,
   "metadata": {},
   "outputs": [],
   "source": [
    "class CPPDeveloper(Developer): # CPPDeveloper 자식 클래스 선언\n",
    "    def coding(self):\n",
    "        print(self.name + ' is C++ developer!!')"
   ]
  },
  {
   "cell_type": "code",
   "execution_count": 57,
   "metadata": {},
   "outputs": [
    {
     "name": "stdout",
     "output_type": "stream",
     "text": [
      "AAA is Python developer!!\n"
     ]
    }
   ],
   "source": [
    "pd = PythonDeveloper('AAA')\n",
    "jd = JavaDeveloper('BBB')\n",
    "cd = CPPDeveloper('CCC')\n",
    "pd.coding()"
   ]
  },
  {
   "cell_type": "code",
   "execution_count": 58,
   "metadata": {},
   "outputs": [
    {
     "name": "stdout",
     "output_type": "stream",
     "text": [
      "BBB is Java developer!!\n"
     ]
    }
   ],
   "source": [
    "jd.coding()"
   ]
  },
  {
   "cell_type": "code",
   "execution_count": 59,
   "metadata": {},
   "outputs": [],
   "source": [
    "class CPPADeveloper(Developer): # CPPDeveloper 자식 클래스 선언\n",
    "    def coding(self):\n",
    "        super().coding() # 부모 인스턴스의 coding()함수 호출\n",
    "        print(self.name + ' is C++ developer!!')"
   ]
  },
  {
   "cell_type": "code",
   "execution_count": 61,
   "metadata": {},
   "outputs": [
    {
     "name": "stdout",
     "output_type": "stream",
     "text": [
      "DDDD is developer!!\n",
      "DDDD is C++ developer!!\n"
     ]
    }
   ],
   "source": [
    "cd1 = CPPADeveloper('DDDD')\n",
    "cd1.coding()"
   ]
  },
  {
   "cell_type": "code",
   "execution_count": null,
   "metadata": {},
   "outputs": [],
   "source": []
  }
 ],
 "metadata": {
  "kernelspec": {
   "display_name": "Python 3",
   "language": "python",
   "name": "python3"
  },
  "language_info": {
   "codemirror_mode": {
    "name": "ipython",
    "version": 3
   },
   "file_extension": ".py",
   "mimetype": "text/x-python",
   "name": "python",
   "nbconvert_exporter": "python",
   "pygments_lexer": "ipython3",
   "version": "3.8.5"
  }
 },
 "nbformat": 4,
 "nbformat_minor": 4
}
