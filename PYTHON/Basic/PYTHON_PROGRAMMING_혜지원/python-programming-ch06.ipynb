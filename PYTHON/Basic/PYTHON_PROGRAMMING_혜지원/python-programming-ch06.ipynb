{
 "cells": [
  {
   "cell_type": "code",
   "execution_count": 1,
   "metadata": {},
   "outputs": [],
   "source": [
    "###제어문"
   ]
  },
  {
   "cell_type": "code",
   "execution_count": 2,
   "metadata": {},
   "outputs": [],
   "source": [
    "#if, for, while, range, pass"
   ]
  },
  {
   "cell_type": "code",
   "execution_count": 3,
   "metadata": {},
   "outputs": [
    {
     "name": "stdout",
     "output_type": "stream",
     "text": [
      "신호등의 색깔은? 하이\n",
      "신호등은 빨간색입니다. 기다리세요\n"
     ]
    }
   ],
   "source": [
    "signal_color = input(\"신호등의 색깔은? \")\n",
    "if signal_color == 'blue':\n",
    "    print(\"신호등은 파란색입니다. 건너세요\")\n",
    "else:\n",
    "    print(\"신호등은 빨간색입니다. 기다리세요\")"
   ]
  },
  {
   "cell_type": "code",
   "execution_count": 6,
   "metadata": {},
   "outputs": [
    {
     "name": "stdout",
     "output_type": "stream",
     "text": [
      "신호등의 색깔은?(영문): green\n",
      "잘못된 색입니다.\n"
     ]
    }
   ],
   "source": [
    "signal_color = input(\"신호등의 색깔은?(영문): \")\n",
    "if signal_color == 'blue':\n",
    "    print(\"신호등은 파란색입니다. 건너세요\")\n",
    "elif signal_color == 'red':\n",
    "    print(\"신호등은 빨간색입니다. 기다리세요\")\n",
    "else:\n",
    "    print(\"잘못된 색입니다.\")"
   ]
  },
  {
   "cell_type": "code",
   "execution_count": 7,
   "metadata": {},
   "outputs": [],
   "source": [
    "#2중 if문"
   ]
  },
  {
   "cell_type": "code",
   "execution_count": 9,
   "metadata": {},
   "outputs": [
    {
     "name": "stdout",
     "output_type": "stream",
     "text": [
      "신호등의 색깔은? blue\n",
      "신호등은 파란색입니다. 건너세요\n",
      "건널준비가되었나요? (yes/no) yes\n",
      "gogogogo\n"
     ]
    }
   ],
   "source": [
    "signal_color = input(\"신호등의 색깔은? \")\n",
    "if signal_color == 'blue':\n",
    "    print(\"신호등은 파란색입니다. 건너세요\")\n",
    "    \n",
    "    is_pass = input(\"건널준비가되었나요? (yes/no) \")\n",
    "    if is_pass =='yes':\n",
    "        print('gogogogo')\n",
    "    else:\n",
    "        print(\"i'll wait\")\n",
    "        \n",
    "elif signal_color == 'red':\n",
    "    print(\"신호등은 빨간색입니다. 기다리세요\")\n",
    "else:\n",
    "    print(\"잘못된 색입니다.\")"
   ]
  },
  {
   "cell_type": "code",
   "execution_count": 13,
   "metadata": {},
   "outputs": [],
   "source": [
    "#while문 -> 특정 조건에 만족할 때까지 반복"
   ]
  },
  {
   "cell_type": "code",
   "execution_count": 14,
   "metadata": {},
   "outputs": [
    {
     "name": "stdout",
     "output_type": "stream",
     "text": [
      "신호등의 색깔은?(blue,red,etc )blue\n",
      "신호등은 파란색입니다. 건너세요\n",
      "프로그램을 종료합니다.\n"
     ]
    }
   ],
   "source": [
    "signal_color = '' #변수 초기화, 선언하지 않으면 에러남\n",
    "#signal_color의 값이 파란색도 아니고， 빨간색도 아닌 경우에 while문이 실행\n",
    "while signal_color != 'blue' and signal_color != 'red':\n",
    "    \n",
    "    signal_color = input(\"신호등의 색깔은?(blue,red,etc )\")\n",
    "    if signal_color == 'blue':\n",
    "        print(\"신호등은 파란색입니다. 건너세요\")\n",
    "    elif signal_color == 'red':\n",
    "        print(\"신호등은 빨간색입니다. 기다리세요\")\n",
    "    else:\n",
    "        print(\"잘못된 색입니다.\")\n",
    "print('프로그램을 종료합니다.')    "
   ]
  },
  {
   "cell_type": "code",
   "execution_count": 15,
   "metadata": {},
   "outputs": [],
   "source": [
    "#for문 -> 특정 범위만큼 수행됨\n",
    "#보통 리스트 or 문자열과 같은 열거형 데이터의 각 항목들을 순차적으로 뽑아내는 용도로 많이 사용"
   ]
  },
  {
   "cell_type": "code",
   "execution_count": 16,
   "metadata": {},
   "outputs": [
    {
     "name": "stdout",
     "output_type": "stream",
     "text": [
      "blue 4\n",
      "yellow 6\n",
      "red 3\n"
     ]
    }
   ],
   "source": [
    "signals = 'blue', 'yellow', 'red' # 3가지 색에 대한 튜플 생성\n",
    "\n",
    "for sig in signals:\n",
    "    print(sig, len(sig))"
   ]
  },
  {
   "cell_type": "code",
   "execution_count": 17,
   "metadata": {},
   "outputs": [],
   "source": [
    "#for문과 range()함수\n",
    "#순차적인 숫자로 이루어진 리스트를 쉽게 만드는 방법"
   ]
  },
  {
   "cell_type": "code",
   "execution_count": 18,
   "metadata": {},
   "outputs": [
    {
     "name": "stdout",
     "output_type": "stream",
     "text": [
      "0\n",
      "1\n",
      "2\n",
      "3\n",
      "4\n"
     ]
    }
   ],
   "source": [
    "for x in range(5):\n",
    "    print(x)"
   ]
  },
  {
   "cell_type": "code",
   "execution_count": 19,
   "metadata": {},
   "outputs": [
    {
     "data": {
      "text/plain": [
       "[0, 1, 2, 3, 4]"
      ]
     },
     "execution_count": 19,
     "metadata": {},
     "output_type": "execute_result"
    }
   ],
   "source": [
    "list(range(5))"
   ]
  },
  {
   "cell_type": "code",
   "execution_count": 20,
   "metadata": {},
   "outputs": [
    {
     "data": {
      "text/plain": [
       "[0, 1, 2, 3, 4, 5]"
      ]
     },
     "execution_count": 20,
     "metadata": {},
     "output_type": "execute_result"
    }
   ],
   "source": [
    "qwer = list(range(6))\n",
    "qwer"
   ]
  },
  {
   "cell_type": "code",
   "execution_count": 21,
   "metadata": {},
   "outputs": [
    {
     "data": {
      "text/plain": [
       "range"
      ]
     },
     "execution_count": 21,
     "metadata": {},
     "output_type": "execute_result"
    }
   ],
   "source": [
    "type(range(5))"
   ]
  },
  {
   "cell_type": "code",
   "execution_count": 22,
   "metadata": {},
   "outputs": [
    {
     "data": {
      "text/plain": [
       "range(0, 5)"
      ]
     },
     "execution_count": 22,
     "metadata": {},
     "output_type": "execute_result"
    }
   ],
   "source": [
    "range(5)"
   ]
  },
  {
   "cell_type": "code",
   "execution_count": 23,
   "metadata": {},
   "outputs": [
    {
     "data": {
      "text/plain": [
       "[5, 6, 7, 8, 9]"
      ]
     },
     "execution_count": 23,
     "metadata": {},
     "output_type": "execute_result"
    }
   ],
   "source": [
    "qwerty = list(range(5,10))\n",
    "qwerty"
   ]
  },
  {
   "cell_type": "code",
   "execution_count": 26,
   "metadata": {},
   "outputs": [
    {
     "data": {
      "text/plain": [
       "[0, 3, 6, 9]"
      ]
     },
     "execution_count": 26,
     "metadata": {},
     "output_type": "execute_result"
    }
   ],
   "source": [
    "list(range(0,10,3)) # 항목 값간의 간격을 나타내는 step도 인자값으로 넣을 수 있다."
   ]
  },
  {
   "cell_type": "code",
   "execution_count": 28,
   "metadata": {},
   "outputs": [
    {
     "name": "stdout",
     "output_type": "stream",
     "text": [
      "0 blue 4\n",
      "1 yellow 6\n",
      "2 red 3\n"
     ]
    }
   ],
   "source": [
    "signals = 'blue', 'yellow','red'\n",
    "for x in range(len(signals)):\n",
    "    print(x, signals[x], len(signals[x]))\n",
    "    \n",
    "#  for문에서 signals 의 길이만큼 range( ) 함수를 통해 부터 까지 순차적으로 반복문이 실행 될 수 있게 명령문을작성. \n",
    "#  해당값은변수‘ x’에 대입되어 블록문내에서 활용이 가능해짐\n",
    "#  4번째 줄에서는 변수 ’x'의 값과 함께 x를 색인으로 하는 튜플의 항목과 그 길이를 출력함"
   ]
  },
  {
   "cell_type": "code",
   "execution_count": 29,
   "metadata": {},
   "outputs": [],
   "source": [
    "#중첩 for문"
   ]
  },
  {
   "cell_type": "code",
   "execution_count": 1,
   "metadata": {},
   "outputs": [
    {
     "name": "stdout",
     "output_type": "stream",
     "text": [
      "nest[ 0 ][ 0 ]: 1\n",
      "nest[ 0 ][ 1 ]: 2\n",
      "nest[ 0 ][ 2 ]: 3\n",
      "nest[ 1 ][ 0 ]: 4\n",
      "nest[ 1 ][ 1 ]: 5\n",
      "nest[ 1 ][ 2 ]: 6\n",
      "nest[ 2 ][ 0 ]: 7\n",
      "nest[ 2 ][ 1 ]: 8\n",
      "nest[ 2 ][ 2 ]: 9\n"
     ]
    }
   ],
   "source": [
    "nest = [[1,2,3],[4,5,6],[7,8,9]]\n",
    "for x in range(3): #행을 위한 바깥쪽 for문\n",
    "    for y in range(3): #열을 위한 안쪽 for문\n",
    "        print('nest[',x,'][', y, ']:', nest[x][y])       \n"
   ]
  },
  {
   "cell_type": "code",
   "execution_count": 2,
   "metadata": {},
   "outputs": [
    {
     "name": "stdout",
     "output_type": "stream",
     "text": [
      "0 blue 루프시작!\n",
      "0 blue 루프종료!\n",
      "1 yellow 루프시작!\n",
      "program 종료\n"
     ]
    }
   ],
   "source": [
    "signals = 'blue', 'yellow', 'red'\n",
    "\n",
    "for x in range(len(signals)):\n",
    "    print(x, signals[x], '루프시작!') #튜플의 index, value, 루프시작 메세지 출력\n",
    "    if signals[x] == 'yellow':\n",
    "         break #반복문 수행 종료\n",
    "    print(x, signals[x], '루프종료!')\n",
    "\n",
    "print('program 종료')"
   ]
  },
  {
   "cell_type": "code",
   "execution_count": 3,
   "metadata": {},
   "outputs": [
    {
     "name": "stdout",
     "output_type": "stream",
     "text": [
      "0 blue 루프시작!\n",
      "0 blue 루프종료!\n",
      "1 yellow 루프시작!\n",
      "2 red 루프시작!\n",
      "2 red 루프종료!\n",
      "program 종료\n"
     ]
    }
   ],
   "source": [
    "signals = 'blue', 'yellow', 'red'\n",
    "\n",
    "for x in range(len(signals)):\n",
    "    print(x, signals[x], '루프시작!') #튜플의 index, value, 루프시작 메세지 출력\n",
    "    if signals[x] == 'yellow':\n",
    "         continue  #루프 수행 종료\n",
    "    print(x, signals[x], '루프종료!')\n",
    "\n",
    "print('program 종료')"
   ]
  },
  {
   "cell_type": "code",
   "execution_count": 6,
   "metadata": {},
   "outputs": [
    {
     "name": "stdout",
     "output_type": "stream",
     "text": [
      "0 blue 루프시작!\n",
      "0 blue 루프종료!\n",
      "1 yellow 루프시작!\n",
      "1 yellow 루프종료!\n",
      "2 red 루프시작!\n",
      "2 red 루프종료!\n",
      "program 종료\n"
     ]
    }
   ],
   "source": [
    "signals = 'blue', 'yellow', 'red'\n",
    "\n",
    "for x in range(len(signals)):\n",
    "    print(x, signals[x], '루프시작!') #튜플의 index, value, 루프시작 메세지 출력\n",
    "    if signals[x] == 'yellow':\n",
    "         pass # 아무작업하지 않음 추후에 작업하기위해 비워두기용?!\n",
    "    print(x, signals[x], '루프종료!')\n",
    "\n",
    "print('program 종료')"
   ]
  },
  {
   "cell_type": "code",
   "execution_count": null,
   "metadata": {},
   "outputs": [],
   "source": []
  },
  {
   "cell_type": "code",
   "execution_count": 7,
   "metadata": {},
   "outputs": [],
   "source": [
    "#####제어문과 자료구조의 조합"
   ]
  },
  {
   "cell_type": "code",
   "execution_count": 8,
   "metadata": {},
   "outputs": [
    {
     "data": {
      "text/plain": [
       "[0, 1, 4, 9, 16, 25, 36, 49, 64, 81]"
      ]
     },
     "execution_count": 8,
     "metadata": {},
     "output_type": "execute_result"
    }
   ],
   "source": [
    "#리스트형\n",
    "squares = [] #빈리스트\n",
    "for x in range(10):\n",
    "    squares.append(x**2)\n",
    "squares"
   ]
  },
  {
   "cell_type": "code",
   "execution_count": 9,
   "metadata": {},
   "outputs": [
    {
     "data": {
      "text/plain": [
       "[0, 1, 4, 9, 16, 25, 36, 49, 64, 81]"
      ]
     },
     "execution_count": 9,
     "metadata": {},
     "output_type": "execute_result"
    }
   ],
   "source": [
    "new_squares = [y**2 for y in range(10)] # 훨씬 좋은 방법\n",
    "new_squares"
   ]
  },
  {
   "cell_type": "code",
   "execution_count": 10,
   "metadata": {},
   "outputs": [
    {
     "data": {
      "text/plain": [
       "9"
      ]
     },
     "execution_count": 10,
     "metadata": {},
     "output_type": "execute_result"
    }
   ],
   "source": [
    "x"
   ]
  },
  {
   "cell_type": "code",
   "execution_count": 12,
   "metadata": {},
   "outputs": [
    {
     "data": {
      "text/plain": [
       "2"
      ]
     },
     "execution_count": 12,
     "metadata": {},
     "output_type": "execute_result"
    }
   ],
   "source": [
    "y"
   ]
  },
  {
   "cell_type": "code",
   "execution_count": 13,
   "metadata": {},
   "outputs": [],
   "source": [
    "#####\n",
    "pairs = []\n",
    "A = ['blue', 'yellow', 'red']\n",
    "B = ['red', 'green', 'blue']\n",
    "for a in A:\n",
    "    for b in B:\n",
    "        if a!=b:\n",
    "            pairs.append((a,b))"
   ]
  },
  {
   "cell_type": "code",
   "execution_count": 14,
   "metadata": {},
   "outputs": [
    {
     "data": {
      "text/plain": [
       "[('blue', 'red'),\n",
       " ('blue', 'green'),\n",
       " ('yellow', 'red'),\n",
       " ('yellow', 'green'),\n",
       " ('yellow', 'blue'),\n",
       " ('red', 'green'),\n",
       " ('red', 'blue')]"
      ]
     },
     "execution_count": 14,
     "metadata": {},
     "output_type": "execute_result"
    }
   ],
   "source": [
    "pairs"
   ]
  },
  {
   "cell_type": "code",
   "execution_count": 15,
   "metadata": {},
   "outputs": [
    {
     "data": {
      "text/plain": [
       "[('blue', 'red'),\n",
       " ('blue', 'green'),\n",
       " ('yellow', 'red'),\n",
       " ('yellow', 'green'),\n",
       " ('yellow', 'blue'),\n",
       " ('red', 'green'),\n",
       " ('red', 'blue')]"
      ]
     },
     "execution_count": 15,
     "metadata": {},
     "output_type": "execute_result"
    }
   ],
   "source": [
    "#####\n",
    "new_pairs = [(a,b) for a in A for b in B if a != b]\n",
    "new_pairs"
   ]
  },
  {
   "cell_type": "code",
   "execution_count": 16,
   "metadata": {},
   "outputs": [],
   "source": [
    "####set형"
   ]
  },
  {
   "cell_type": "code",
   "execution_count": 17,
   "metadata": {},
   "outputs": [],
   "source": [
    "a = {x for x in 'abracadabra' if x not in 'abc'}"
   ]
  },
  {
   "cell_type": "code",
   "execution_count": 18,
   "metadata": {},
   "outputs": [
    {
     "data": {
      "text/plain": [
       "{'d', 'r'}"
      ]
     },
     "execution_count": 18,
     "metadata": {},
     "output_type": "execute_result"
    }
   ],
   "source": [
    "a"
   ]
  },
  {
   "cell_type": "code",
   "execution_count": 19,
   "metadata": {},
   "outputs": [],
   "source": [
    "###dict형"
   ]
  },
  {
   "cell_type": "code",
   "execution_count": 20,
   "metadata": {},
   "outputs": [
    {
     "data": {
      "text/plain": [
       "{2: 4, 4: 16, 6: 36}"
      ]
     },
     "execution_count": 20,
     "metadata": {},
     "output_type": "execute_result"
    }
   ],
   "source": [
    " {x: x**2 for x in (2 , 4, 6)} "
   ]
  },
  {
   "cell_type": "code",
   "execution_count": null,
   "metadata": {},
   "outputs": [],
   "source": []
  }
 ],
 "metadata": {
  "kernelspec": {
   "display_name": "Python 3",
   "language": "python",
   "name": "python3"
  },
  "language_info": {
   "codemirror_mode": {
    "name": "ipython",
    "version": 3
   },
   "file_extension": ".py",
   "mimetype": "text/x-python",
   "name": "python",
   "nbconvert_exporter": "python",
   "pygments_lexer": "ipython3",
   "version": "3.8.5"
  }
 },
 "nbformat": 4,
 "nbformat_minor": 4
}
