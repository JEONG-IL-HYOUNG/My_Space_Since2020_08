{
 "cells": [
  {
   "cell_type": "code",
   "execution_count": 1,
   "metadata": {},
   "outputs": [],
   "source": [
    "###ch07 실습 프로젝트1"
   ]
  },
  {
   "cell_type": "code",
   "execution_count": 2,
   "metadata": {},
   "outputs": [],
   "source": [
    "#구구단 1단 출력"
   ]
  },
  {
   "cell_type": "code",
   "execution_count": 3,
   "metadata": {},
   "outputs": [
    {
     "name": "stdout",
     "output_type": "stream",
     "text": [
      "1 *  1  = 1\n",
      "1 *  2  = 2\n",
      "1 *  3  = 3\n",
      "1 *  4  = 4\n",
      "1 *  5  = 5\n",
      "1 *  6  = 6\n",
      "1 *  7  = 7\n",
      "1 *  8  = 8\n",
      "1 *  9  = 9\n"
     ]
    }
   ],
   "source": [
    "for x in range(1,10):\n",
    "    print('1 * ', x, ' =', (1*x))"
   ]
  },
  {
   "cell_type": "code",
   "execution_count": 5,
   "metadata": {},
   "outputs": [
    {
     "name": "stdout",
     "output_type": "stream",
     "text": [
      "구구단 몇 단을 출력할까요? 숫자를 입력하세요: 5\n",
      "5  *  1  =  5\n",
      "5  *  2  =  10\n",
      "5  *  3  =  15\n",
      "5  *  4  =  20\n",
      "5  *  5  =  25\n",
      "5  *  6  =  30\n",
      "5  *  7  =  35\n",
      "5  *  8  =  40\n",
      "5  *  9  =  45\n"
     ]
    }
   ],
   "source": [
    "#원하는 구구단 출력\n",
    "#1부터 9까지중 하나의 숫자를 입력할수 있고 이외의 숫자를 입력하면 재입력 요청을 하자.\n",
    "\n",
    "gugu = input('구구단 몇 단을 출력할까요? 숫자를 입력하세요: ')\n",
    "if 1<=int(gugu)<=9 :\n",
    "    for x in range(1,10):\n",
    "        print(gugu , ' * ', x , ' = ', (int(gugu)*x))\n",
    "else:    \n",
    "    input('구구단은 1단부터 9단까지 출력가능합니다. 맞는 숫자를 다시 입력하세요: ')"
   ]
  },
  {
   "cell_type": "code",
   "execution_count": 6,
   "metadata": {},
   "outputs": [
    {
     "name": "stdout",
     "output_type": "stream",
     "text": [
      "구구단 몇 단을 출력할까요? 숫자를 입력하세요: 7\n",
      "7  *  1  =  7\n",
      "7  *  2  =  14\n",
      "7  *  3  =  21\n",
      "7  *  4  =  28\n",
      "7  *  5  =  35\n",
      "7  *  6  =  42\n",
      "7  *  7  =  49\n",
      "7  *  8  =  56\n",
      "7  *  9  =  63\n"
     ]
    }
   ],
   "source": [
    "gugu1 = int(input('구구단 몇 단을 출력할까요? 숫자를 입력하세요: '))\n",
    "\n",
    "while gugu1<1 or gugu1>9:\n",
    "    gugu1 = int(input('구구단 1단부터 9단까지 출력가능합니다. 맞는 숫자를 다시 입력하세요: '))\n",
    "    \n",
    "for abc in range(1,10):\n",
    "    print(gugu1 , ' * ', abc , ' = ', (int(gugu1)*abc)) "
   ]
  },
  {
   "cell_type": "code",
   "execution_count": null,
   "metadata": {},
   "outputs": [],
   "source": [
    "#구구단 전체 출력"
   ]
  },
  {
   "cell_type": "code",
   "execution_count": 7,
   "metadata": {},
   "outputs": [
    {
     "name": "stdout",
     "output_type": "stream",
     "text": [
      "==========\n",
      "1  *  1  =  1\n",
      "1  *  2  =  2\n",
      "1  *  3  =  3\n",
      "1  *  4  =  4\n",
      "1  *  5  =  5\n",
      "1  *  6  =  6\n",
      "1  *  7  =  7\n",
      "1  *  8  =  8\n",
      "1  *  9  =  9\n",
      "==========\n",
      "2  *  1  =  2\n",
      "2  *  2  =  4\n",
      "2  *  3  =  6\n",
      "2  *  4  =  8\n",
      "2  *  5  =  10\n",
      "2  *  6  =  12\n",
      "2  *  7  =  14\n",
      "2  *  8  =  16\n",
      "2  *  9  =  18\n",
      "==========\n",
      "3  *  1  =  3\n",
      "3  *  2  =  6\n",
      "3  *  3  =  9\n",
      "3  *  4  =  12\n",
      "3  *  5  =  15\n",
      "3  *  6  =  18\n",
      "3  *  7  =  21\n",
      "3  *  8  =  24\n",
      "3  *  9  =  27\n",
      "==========\n",
      "4  *  1  =  4\n",
      "4  *  2  =  8\n",
      "4  *  3  =  12\n",
      "4  *  4  =  16\n",
      "4  *  5  =  20\n",
      "4  *  6  =  24\n",
      "4  *  7  =  28\n",
      "4  *  8  =  32\n",
      "4  *  9  =  36\n",
      "==========\n",
      "5  *  1  =  5\n",
      "5  *  2  =  10\n",
      "5  *  3  =  15\n",
      "5  *  4  =  20\n",
      "5  *  5  =  25\n",
      "5  *  6  =  30\n",
      "5  *  7  =  35\n",
      "5  *  8  =  40\n",
      "5  *  9  =  45\n",
      "==========\n",
      "6  *  1  =  6\n",
      "6  *  2  =  12\n",
      "6  *  3  =  18\n",
      "6  *  4  =  24\n",
      "6  *  5  =  30\n",
      "6  *  6  =  36\n",
      "6  *  7  =  42\n",
      "6  *  8  =  48\n",
      "6  *  9  =  54\n",
      "==========\n",
      "7  *  1  =  7\n",
      "7  *  2  =  14\n",
      "7  *  3  =  21\n",
      "7  *  4  =  28\n",
      "7  *  5  =  35\n",
      "7  *  6  =  42\n",
      "7  *  7  =  49\n",
      "7  *  8  =  56\n",
      "7  *  9  =  63\n",
      "==========\n",
      "8  *  1  =  8\n",
      "8  *  2  =  16\n",
      "8  *  3  =  24\n",
      "8  *  4  =  32\n",
      "8  *  5  =  40\n",
      "8  *  6  =  48\n",
      "8  *  7  =  56\n",
      "8  *  8  =  64\n",
      "8  *  9  =  72\n",
      "==========\n",
      "9  *  1  =  9\n",
      "9  *  2  =  18\n",
      "9  *  3  =  27\n",
      "9  *  4  =  36\n",
      "9  *  5  =  45\n",
      "9  *  6  =  54\n",
      "9  *  7  =  63\n",
      "9  *  8  =  72\n",
      "9  *  9  =  81\n"
     ]
    }
   ],
   "source": [
    "for abc in range(1, 10):\n",
    "    print('='*10)\n",
    "    for defg in range(1,10):\n",
    "        print(abc, ' * ', defg, ' = ', abc*defg)"
   ]
  },
  {
   "cell_type": "code",
   "execution_count": 8,
   "metadata": {},
   "outputs": [],
   "source": [
    "#문자열 가지고 놀기\n",
    "#문자열 대소문자 변경"
   ]
  },
  {
   "cell_type": "code",
   "execution_count": 14,
   "metadata": {},
   "outputs": [
    {
     "name": "stdout",
     "output_type": "stream",
     "text": [
      "영어 대소문자로 이루어진 문장을 입력하세요.\n",
      "I am a PYTHON programmer\n",
      "\n",
      "모두 대문자로 출력\n",
      "I AM A PYTHON PROGRAMMER\n",
      "\n",
      "모두 소문자로 출력\n",
      "i am a python programmer\n",
      "\n",
      "대소문자 바꿔서 출력\n",
      "i AM A python PROGRAMMER\n",
      "\n",
      "대소문자 바꿔서 출력2\n",
      "i AM A python PROGRAMMER\n"
     ]
    }
   ],
   "source": [
    "str_play = input('영어 대소문자로 이루어진 문장을 입력하세요.\\n')\n",
    "print()\n",
    "print('모두 대문자로 출력\\n'+ str_play.upper())\n",
    "print()\n",
    "print('모두 소문자로 출력\\n'+ str_play.lower())\n",
    "print()\n",
    "\n",
    "new_str = str()  #신규 문자열형 변수 선언\n",
    "for c in str_play:  #for문 안에서 사용하는 변수 c를 선언하고, 입력받은 문자를 하나씩 꺼내서 c에 넣는다.\n",
    "    if c.islower(): # 해당문자가 소문자이면\n",
    "        new_str += c.upper() #대문자로 변경하여 new_str에 붙이기\n",
    "    else:          # 해당문자가 대문자이면\n",
    "        new_str += c.lower() # 소문자로 변경하여 new_str에 붙이기\n",
    "\n",
    "print('대소문자 바꿔서 출력\\n' + new_str)\n",
    "print()\n",
    "print('대소문자 바꿔서 출력2\\n' + str_play.swapcase())"
   ]
  },
  {
   "cell_type": "code",
   "execution_count": 15,
   "metadata": {},
   "outputs": [],
   "source": [
    "#문자열 순서 바꾸기"
   ]
  },
  {
   "cell_type": "code",
   "execution_count": 17,
   "metadata": {},
   "outputs": [],
   "source": [
    "#표준 입력문으로 받은 문자열의 순서를 바꿔서 역으로 출력\n",
    "#두가지 방법\n",
    "#for문과 range문 활영\n",
    "#index slicing기능활용"
   ]
  },
  {
   "cell_type": "code",
   "execution_count": 19,
   "metadata": {},
   "outputs": [
    {
     "name": "stdout",
     "output_type": "stream",
     "text": [
      "영어 문장을 입력하세요\n",
      "abcdegh\n",
      "h\n",
      "hg\n",
      "hge\n",
      "hged\n",
      "hgedc\n",
      "hgedcb\n",
      "hgedcba\n",
      "hgedcba\n",
      "hgedcba\n"
     ]
    }
   ],
   "source": [
    "turn_over = input('영어 문장을 입력하세요\\n')\n",
    "\n",
    "new_to = str()\n",
    "\n",
    "######range()를 활용한 역순 인덱스 추출########\n",
    "###range([strat=0], end, [step=1]) -> start부터 end-1까지 step 단위의 숫자로 이루어진 range를 반환\n",
    "###원노트에 이부분 캡쳐\n",
    "\n",
    "for x in range(len(turn_over)-1,-1,-1): #range()를 활용한 역순 인덱스 추출\n",
    "    new_to += turn_over[x]               #문자열을 끝에서부터 앞으로 신규변수에 붙이기\n",
    "    print(new_to)\n",
    "\n",
    "print(new_to)\n",
    "    \n",
    "print(turn_over[::-1])                    #인덱스 사용법으로 역순 출력"
   ]
  },
  {
   "cell_type": "code",
   "execution_count": 21,
   "metadata": {},
   "outputs": [
    {
     "name": "stdout",
     "output_type": "stream",
     "text": [
      "{'제목': '개발자의코드', '출판연도': '2013 .02.28', '출판사': 'A', '쪽수': 200, '추천유무': False}\n",
      "{'제목': '클린 코드', '출판연도': '2013 .03.28', '출판사': 'B', '쪽수': 584, '추천유무': True}\n",
      "{'제목': '빅데이터마케팅', '출판연도': '2014 .07.28', '출판사': 'A', '쪽수': 296, '추천유무': True}\n",
      "{'제목': '구글 코드', '출판연도': '2010 .02.28', '출판사': 'B', '쪽수': 526, '추천유무': False}\n",
      "{'제목': '강의력', '출판연도': '2013 .12.28', '출판사': ' A', '쪽수': 247, '추천유무': True}\n"
     ]
    }
   ],
   "source": [
    "###p221 내가 읽은 책 목록 만들기\n",
    "books = list() # 책목록 선언\n",
    "\n",
    "#책 목록 만들기\n",
    "books.append({'제목':'개발자의코드','출판연도':'2013 .02.28', '출판사':'A', '쪽수' :200 , '추천유무' :False})\n",
    "books.append({'제목' : '클린 코드','출판연도' : '2013 .03.28', '출판사' : 'B','쪽수' :584 , '추천유무' :True})\n",
    "books.append({'제목' : '빅데이터마케팅','출판연도' : '2014 .07.28', '출판사' : 'A','쪽수' :296 , '추천유무' :True})\n",
    "books.append({'제목' : '구글 코드','출판연도' : '2010 .02.28', '출판사' : 'B','쪽수' :526 , '추천유무' :False})\n",
    "books.append({'제목' : '강의력', '출판연도' : '2013 .12.28', '출판사' : ' A','쪽수' :247 , '추천유무' :True})\n",
    "\n",
    "\n",
    "for book in books:\n",
    "    print (book)"
   ]
  },
  {
   "cell_type": "code",
   "execution_count": 23,
   "metadata": {},
   "outputs": [
    {
     "name": "stdout",
     "output_type": "stream",
     "text": [
      "쪽수가 250쪽 넘는 책 리스트:  ['클린 코드', '빅데이터마케팅', '구글 코드']\n",
      "내가 추천하는 책 리스트:  ['클린 코드', '빅데이터마케팅', '강의력']\n",
      "내가 읽은 책 전체 쪽수:  1853\n",
      "내가 읽은 책의 출판사 목록:  {'A', 'B'}\n"
     ]
    }
   ],
   "source": [
    "books = list()#책 목록 선언\n",
    "\n",
    "#책 목록 만들기\n",
    "books.append({'제목':'개발자의코드','출판연도':'2013 .02.28', '출판사':'A', '쪽수' :200 , '추천유무' :False})\n",
    "books.append({'제목' : '클린 코드','출판연도' : '2013 .03.28', '출판사' : 'B','쪽수' :584 , '추천유무' :True})\n",
    "books.append({'제목' : '빅데이터마케팅','출판연도' : '2014 .07.28', '출판사' : 'A','쪽수' :296 , '추천유무' :True})\n",
    "books.append({'제목' : '구글 코드','출판연도' : '2010 .02.28', '출판사' : 'B','쪽수' :526 , '추천유무' :False})\n",
    "books.append({'제목' : '강의력', '출판연도' : '2013 .12.28', '출판사' : 'A','쪽수' :247 , '추천유무' :True})\n",
    "\n",
    "many_page = list() # 책 리스트 선언\n",
    "recommends = list() #책 리스트 선언\n",
    "all_page = int() # 전체 쪽수 변수 선언\n",
    "pub_companies = set() #출판사 집합 선언\n",
    "\n",
    "for book in books:\n",
    "    if book['쪽수'] > 250:\n",
    "        many_page.append(book['제목'])\n",
    "    if book['추천유무']:\n",
    "        recommends.append(book['제목'])\n",
    "    all_page += book['쪽수']\n",
    "    pub_companies.add(book['출판사'])\n",
    "\n",
    "print('쪽수가 250쪽 넘는 책 리스트: ', many_page)\n",
    "print('내가 추천하는 책 리스트: ', recommends)\n",
    "print('내가 읽은 책 전체 쪽수: ', all_page)\n",
    "print('내가 읽은 책의 출판사 목록: ', pub_companies)"
   ]
  },
  {
   "cell_type": "code",
   "execution_count": null,
   "metadata": {},
   "outputs": [],
   "source": []
  }
 ],
 "metadata": {
  "kernelspec": {
   "display_name": "Python 3",
   "language": "python",
   "name": "python3"
  },
  "language_info": {
   "codemirror_mode": {
    "name": "ipython",
    "version": 3
   },
   "file_extension": ".py",
   "mimetype": "text/x-python",
   "name": "python",
   "nbconvert_exporter": "python",
   "pygments_lexer": "ipython3",
   "version": "3.8.5"
  }
 },
 "nbformat": 4,
 "nbformat_minor": 4
}
