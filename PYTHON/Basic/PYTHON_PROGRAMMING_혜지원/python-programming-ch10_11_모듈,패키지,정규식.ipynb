{
 "cells": [
  {
   "cell_type": "code",
   "execution_count": 1,
   "metadata": {
    "code_folding": []
   },
   "outputs": [],
   "source": [
    "####chapter10 , 11 모듈과 패키지"
   ]
  },
  {
   "cell_type": "code",
   "execution_count": 1,
   "metadata": {
    "ExecuteTime": {
     "end_time": "2020-10-06T00:55:16.974008Z",
     "start_time": "2020-10-06T00:55:16.965032Z"
    }
   },
   "outputs": [
    {
     "data": {
      "text/plain": [
       "3.141592653589793"
      ]
     },
     "execution_count": 1,
     "metadata": {},
     "output_type": "execute_result"
    }
   ],
   "source": [
    "import math\n",
    "\n",
    "math.pi"
   ]
  },
  {
   "cell_type": "code",
   "execution_count": 2,
   "metadata": {
    "ExecuteTime": {
     "end_time": "2020-10-06T00:57:46.882419Z",
     "start_time": "2020-10-06T00:57:46.864467Z"
    }
   },
   "outputs": [
    {
     "data": {
      "text/plain": [
       "32.0"
      ]
     },
     "execution_count": 2,
     "metadata": {},
     "output_type": "execute_result"
    }
   ],
   "source": [
    "math.pow(2,5)"
   ]
  },
  {
   "cell_type": "code",
   "execution_count": 8,
   "metadata": {},
   "outputs": [],
   "source": [
    "def fib(n):\n",
    "    a = 0\n",
    "    b = 1\n",
    "    while b < n:\n",
    "        print(b, end= ' ')\n",
    "        a, b = b, a+b\n",
    "    print()\n",
    "    \n",
    "def fib2(n):\n",
    "    result = []\n",
    "    a = 0\n",
    "    b = 1\n",
    "    while b < n:\n",
    "        result.append(b)\n",
    "        a, b = b, a+b\n",
    "    return result"
   ]
  },
  {
   "cell_type": "code",
   "execution_count": 5,
   "metadata": {},
   "outputs": [
    {
     "name": "stdout",
     "output_type": "stream",
     "text": [
      "1 1 2 3 5 8 13 \n"
     ]
    }
   ],
   "source": [
    "fib(20)"
   ]
  },
  {
   "cell_type": "code",
   "execution_count": 9,
   "metadata": {},
   "outputs": [
    {
     "data": {
      "text/plain": [
       "[1, 1, 2, 3, 5, 8, 13, 21, 34]"
      ]
     },
     "execution_count": 9,
     "metadata": {},
     "output_type": "execute_result"
    }
   ],
   "source": [
    "fib2(35)"
   ]
  },
  {
   "cell_type": "code",
   "execution_count": 10,
   "metadata": {},
   "outputs": [],
   "source": [
    "#비밀번호 정합성 체크를 위한 모듈"
   ]
  },
  {
   "cell_type": "code",
   "execution_count": 8,
   "metadata": {
    "code_folding": []
   },
   "outputs": [
    {
     "name": "stdout",
     "output_type": "stream",
     "text": [
      "23ke  의 길이가 적당하지 않습니다.\n",
      "432rewvb43  는 영문 대문자와 소문자가 함께 존재하지 않습니다.\n",
      "2@djke%  는 숫자와 영문자로만 구성되지 않았습니다.\n",
      "3k39Qleo0  는 비밀번호로 적당합니다!\n"
     ]
    }
   ],
   "source": [
    "def password_validation_check(pwd):\n",
    "    \"\"\" checking password validation\n",
    "    \n",
    "    Args :\n",
    "        pwd(str) : password string\n",
    "        \n",
    "    Return :\n",
    "        True or False(boolean) : the result of checking validation\n",
    "    \n",
    "    \"\"\"\n",
    "    #비밀 번호 길이 확인(6~12)\n",
    "    if len(pwd) < 6 or len(pwd) >12 :\n",
    "        print(pwd, ' 의 길이가 적당하지 않습니다.')\n",
    "        return False\n",
    "    \n",
    "    #숫자 혹은 알파벳 유무 확인\n",
    "    for c in pwd:\n",
    "        if not c.isnumeric() and not c.isalpha():\n",
    "            print(pwd, ' 는 숫자와 영문자로만 구성되지 않았습니다.')\n",
    "            return False\n",
    "    #알파벳 대소문자 확인\n",
    "    upper = False #대문자 포함 유무를 위한 논리형 변수\n",
    "    lower = False #소문자 포함 유무를 위한 논리형 변수\n",
    "    \n",
    "    #각 문자 확인\n",
    "    for c in pwd:\n",
    "        #대문자와 소문자가 모두 있으면 루프 탈출\n",
    "        if upper and lower:\n",
    "            break\n",
    "        \n",
    "        #해당문자가 영문이면\n",
    "        if c.isalpha():\n",
    "            \n",
    "            #아직 대문자가 발견 되지 않은 경우에만\n",
    "            if not upper:\n",
    "                upper = c.isupper()# 대문자 포함 유무 저장\n",
    "                \n",
    "            #아직 소문자가 발견되지 않은 경우에만\n",
    "            if not lower:\n",
    "                lower = c.islower() #소문자 포함 유무 저장\n",
    "                \n",
    "    #대문자 혹은 소문자가 없는 경우 확인\n",
    "    if not upper or not lower:\n",
    "        print(pwd, ' 는 영문 대문자와 소문자가 함께 존재하지 않습니다.')\n",
    "        return False\n",
    "        \n",
    "    \n",
    "    print(pwd, ' 는 비밀번호로 적당합니다!')\n",
    "    return True\n",
    "    \n",
    "    \n",
    "\n",
    "if __name__ == '__main__':\n",
    "    password_validation_check('23ke')\n",
    "    password_validation_check('432rewvb43')\n",
    "    password_validation_check('2@djke%')\n",
    "    password_validation_check('3k39Qleo0')"
   ]
  },
  {
   "cell_type": "code",
   "execution_count": null,
   "metadata": {},
   "outputs": [],
   "source": []
  },
  {
   "cell_type": "code",
   "execution_count": 9,
   "metadata": {},
   "outputs": [],
   "source": [
    "#####정규식"
   ]
  },
  {
   "cell_type": "code",
   "execution_count": 10,
   "metadata": {},
   "outputs": [
    {
     "name": "stdout",
     "output_type": "stream",
     "text": [
      "23ke  의 길이가 적당하지 않습니다.\n",
      "432rewvb43  는 영문대문자와 소문자가 함께 존재하지 않습니다.\n",
      "2@djke% 는 숫자와 영문자로만 구성되지 않았습니다.\n",
      "3k39Qleo0  는 비밀번호로 적당합니다!\n"
     ]
    }
   ],
   "source": [
    "import re\n",
    "\n",
    "def password_validation_check(pwd):\n",
    "    \"\"\" checking password validation\n",
    "    \n",
    "    Args :\n",
    "        pwd(str) : password string\n",
    "        \n",
    "    Return :\n",
    "        True or False(boolean) : the result of checking validation\n",
    "    \n",
    "    \"\"\"\n",
    "    #비밀 번호 길이 확인(6~12)\n",
    "    if len(pwd) < 6 or len(pwd) >12 :\n",
    "        print(pwd, ' 의 길이가 적당하지 않습니다.')\n",
    "        return False\n",
    "    \n",
    "   #숫자 혹은 알파벳 유무 확인\n",
    "    if re.findall('[a-zA-z0-9]+',pwd)[0] !=pwd:\n",
    "        print(pwd, '는 숫자와 영문자로만 구성되지 않았습니다.')\n",
    "        return False\n",
    "    \n",
    "    #알파벳 대소문자 확인\n",
    "    if len(re.findall('[a-z]', pwd)) ==0 or len(re.findall('[A-Z]', pwd)) ==0:\n",
    "        print(pwd, ' 는 영문대문자와 소문자가 함께 존재하지 않습니다.')\n",
    "        return False\n",
    "        \n",
    "    \n",
    "    print(pwd, ' 는 비밀번호로 적당합니다!')\n",
    "    return True\n",
    "    \n",
    "    \n",
    "\n",
    "if __name__ == '__main__':\n",
    "    password_validation_check('23ke')\n",
    "    password_validation_check('432rewvb43')\n",
    "    password_validation_check('2@djke%')\n",
    "    password_validation_check('3k39Qleo0')"
   ]
  },
  {
   "cell_type": "code",
   "execution_count": null,
   "metadata": {},
   "outputs": [],
   "source": []
  },
  {
   "cell_type": "code",
   "execution_count": 11,
   "metadata": {},
   "outputs": [],
   "source": [
    "###e mail 주소 정합성 체크를 위한 함수 정규식"
   ]
  },
  {
   "cell_type": "code",
   "execution_count": 15,
   "metadata": {},
   "outputs": [
    {
     "name": "stdout",
     "output_type": "stream",
     "text": [
      "#@c#0@gmail.com  는 이메일 주소 형식에 맞지 않습니다.\n",
      "isisis.df@gmail.com  는 주소로 적당합니다!\n"
     ]
    }
   ],
   "source": [
    "import re # re모듈 \n",
    "\n",
    "def email_validation_check(email):     \n",
    "    \"\"\" checking password validation\n",
    "    \n",
    "    Args :\n",
    "        email(str) : password string\n",
    "        \n",
    "    Return :\n",
    "        True or False(boolean) : the result of checking validation\n",
    "    \n",
    "    \"\"\"\n",
    "    if re.findall (r'[\\w.-]+@[\\w.-]+.\\w+', email)[0]  != email:\n",
    "        print(email, ' 는 이메일 주소 형식에 맞지 않습니다.')\n",
    "        return False\n",
    "    \n",
    "    print(email, ' 는 주소로 적당합니다!')\n",
    "    return True\n",
    "\n",
    "if __name__ == '__main__':\n",
    "    email_validation_check('#@c#0@gmail.com')\n",
    "    email_validation_check('isisis.df@gmail.com')\n",
    "    \n",
    "    "
   ]
  },
  {
   "cell_type": "code",
   "execution_count": null,
   "metadata": {},
   "outputs": [],
   "source": []
  }
 ],
 "metadata": {
  "kernelspec": {
   "display_name": "Python 3",
   "language": "python",
   "name": "python3"
  },
  "language_info": {
   "codemirror_mode": {
    "name": "ipython",
    "version": 3
   },
   "file_extension": ".py",
   "mimetype": "text/x-python",
   "name": "python",
   "nbconvert_exporter": "python",
   "pygments_lexer": "ipython3",
   "version": "3.8.5"
  },
  "toc": {
   "base_numbering": 1,
   "nav_menu": {},
   "number_sections": true,
   "sideBar": true,
   "skip_h1_title": false,
   "title_cell": "Table of Contents",
   "title_sidebar": "Contents",
   "toc_cell": false,
   "toc_position": {},
   "toc_section_display": true,
   "toc_window_display": false
  },
  "varInspector": {
   "cols": {
    "lenName": 16,
    "lenType": 16,
    "lenVar": 40
   },
   "kernels_config": {
    "python": {
     "delete_cmd_postfix": "",
     "delete_cmd_prefix": "del ",
     "library": "var_list.py",
     "varRefreshCmd": "print(var_dic_list())"
    },
    "r": {
     "delete_cmd_postfix": ") ",
     "delete_cmd_prefix": "rm(",
     "library": "var_list.r",
     "varRefreshCmd": "cat(var_dic_list()) "
    }
   },
   "types_to_exclude": [
    "module",
    "function",
    "builtin_function_or_method",
    "instance",
    "_Feature"
   ],
   "window_display": false
  }
 },
 "nbformat": 4,
 "nbformat_minor": 4
}
